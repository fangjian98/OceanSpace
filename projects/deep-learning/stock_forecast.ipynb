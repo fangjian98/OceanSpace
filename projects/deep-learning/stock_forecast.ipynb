{
 "cells": [
  {
   "cell_type": "markdown",
   "id": "83fff504",
   "metadata": {},
   "source": [
    "# 深度学习100例-循环神经网络（RNN）实现股票预测 | 第9天\n",
    "\n",
    "我们的代码流程图如下所示：  \n",
    "![](https://img-blog.csdnimg.cn/d1e774d8e5584a5a9858d050cf7aa333.png)"
   ]
  },
  {
   "cell_type": "markdown",
   "id": "823887b0",
   "metadata": {},
   "source": [
    "## RNN是什么\n",
    "\n",
    "传统神经网络的结构比较简单：输入层 – 隐藏层 – 输出层\n",
    "\n",
    "![在这里插入图片描述](https://img-blog.csdnimg.cn/20210609190035917.png#pic_center)\n",
    "\n",
    "RNN 跟传统神经网络最大的区别在于每次都会将前一次的输出结果，带到下一次的隐藏层中，一起训练。如下图所示：  \n",
    "![在这里插入图片描述](https://img-blog.csdnimg.cn/20210609190120545.gif#pic_center)\n",
    "\n",
    "这里用一个具体的案例来看看 RNN 是如何工作的：\n",
    "\n",
    "用户说了一句“what time is it？”，我们的神经网络会先将这句话分为五个基本单元（四个单词+一个问号）\n",
    "\n",
    "![在这里插入图片描述](https://img-blog.csdnimg.cn/20210609190139960.gif#pic_center)\n",
    "\n",
    "然后，按照顺序将五个基本单元输入RNN网络，先将 “what”作为RNN的输入，得到输出`01`\n",
    "\n",
    "![在这里插入图片描述](https://img-blog.csdnimg.cn/20210609190153448.gif#pic_center)\n",
    "\n",
    "随后，按照顺序将“time”输入到RNN网络，得到输出`02`。\n",
    "\n",
    "这个过程我们可以看到，输入 “time” 的时候，前面“what” 的输出也会对`02`的输出产生了影响（隐藏层中有一半是黑色的）。\n",
    "\n",
    "![](https://img-blog.csdnimg.cn/20210609190204411.gif#pic_center)\n",
    "\n",
    "以此类推，我们可以看到，前面所有的输入产生的结果都对后续的输出产生了影响（可以看到圆形中包含了前面所有的颜色）\n",
    "\n",
    "![](https://img-blog.csdnimg.cn/20210609190216554.gif#pic_center)\n",
    "\n",
    "当神经网络判断意图的时候，只需要最后一层的输出`05`，如下图所示：\n",
    "\n",
    "![](https://img-blog.csdnimg.cn/2021060919023244.gif#pic_center)"
   ]
  },
  {
   "cell_type": "markdown",
   "id": "dd4b6070",
   "metadata": {},
   "source": [
    "## 1.准备工作\n",
    "\n",
    "### 1.1 加载数据"
   ]
  },
  {
   "cell_type": "code",
   "execution_count": 8,
   "id": "d0ecc7ac",
   "metadata": {},
   "outputs": [],
   "source": [
    "import os,math\n",
    "from tensorflow.keras.layers import Dropout, Dense, SimpleRNN\n",
    "from sklearn.preprocessing   import MinMaxScaler\n",
    "from sklearn                 import metrics\n",
    "import numpy             as np\n",
    "import pandas            as pd\n",
    "import tensorflow        as tf\n",
    "import matplotlib.pyplot as plt\n",
    "# 支持中文\n",
    "plt.rcParams['font.sans-serif'] = ['SimHei']  # 用来正常显示中文标签\n",
    "plt.rcParams['axes.unicode_minus'] = False  # 用来正常显示负号"
   ]
  },
  {
   "cell_type": "markdown",
   "id": "e0cd0d08",
   "metadata": {},
   "source": [
    "《深度学习100例》第9天的数据链接如下\n",
    "\n",
    "https://pan.baidu.com/s/1ojOSS8I7F4E_uoPBq0HTUg（提取码：94ho）"
   ]
  },
  {
   "cell_type": "code",
   "execution_count": 9,
   "id": "39cb4f6e",
   "metadata": {},
   "outputs": [
    {
     "data": {
      "text/html": [
       "<div>\n",
       "<style scoped>\n",
       "    .dataframe tbody tr th:only-of-type {\n",
       "        vertical-align: middle;\n",
       "    }\n",
       "\n",
       "    .dataframe tbody tr th {\n",
       "        vertical-align: top;\n",
       "    }\n",
       "\n",
       "    .dataframe thead th {\n",
       "        text-align: right;\n",
       "    }\n",
       "</style>\n",
       "<table border=\"1\" class=\"dataframe\">\n",
       "  <thead>\n",
       "    <tr style=\"text-align: right;\">\n",
       "      <th></th>\n",
       "      <th>Unnamed: 0</th>\n",
       "      <th>date</th>\n",
       "      <th>open</th>\n",
       "      <th>close</th>\n",
       "      <th>high</th>\n",
       "      <th>low</th>\n",
       "      <th>volume</th>\n",
       "      <th>code</th>\n",
       "    </tr>\n",
       "  </thead>\n",
       "  <tbody>\n",
       "    <tr>\n",
       "      <th>0</th>\n",
       "      <td>74</td>\n",
       "      <td>2010-04-26</td>\n",
       "      <td>88.702</td>\n",
       "      <td>87.381</td>\n",
       "      <td>89.072</td>\n",
       "      <td>87.362</td>\n",
       "      <td>107036.13</td>\n",
       "      <td>600519</td>\n",
       "    </tr>\n",
       "    <tr>\n",
       "      <th>1</th>\n",
       "      <td>75</td>\n",
       "      <td>2010-04-27</td>\n",
       "      <td>87.355</td>\n",
       "      <td>84.841</td>\n",
       "      <td>87.355</td>\n",
       "      <td>84.681</td>\n",
       "      <td>58234.48</td>\n",
       "      <td>600519</td>\n",
       "    </tr>\n",
       "    <tr>\n",
       "      <th>2</th>\n",
       "      <td>76</td>\n",
       "      <td>2010-04-28</td>\n",
       "      <td>84.235</td>\n",
       "      <td>84.318</td>\n",
       "      <td>85.128</td>\n",
       "      <td>83.597</td>\n",
       "      <td>26287.43</td>\n",
       "      <td>600519</td>\n",
       "    </tr>\n",
       "    <tr>\n",
       "      <th>3</th>\n",
       "      <td>77</td>\n",
       "      <td>2010-04-29</td>\n",
       "      <td>84.592</td>\n",
       "      <td>85.671</td>\n",
       "      <td>86.315</td>\n",
       "      <td>84.592</td>\n",
       "      <td>34501.20</td>\n",
       "      <td>600519</td>\n",
       "    </tr>\n",
       "    <tr>\n",
       "      <th>4</th>\n",
       "      <td>78</td>\n",
       "      <td>2010-04-30</td>\n",
       "      <td>83.871</td>\n",
       "      <td>82.340</td>\n",
       "      <td>83.871</td>\n",
       "      <td>81.523</td>\n",
       "      <td>85566.70</td>\n",
       "      <td>600519</td>\n",
       "    </tr>\n",
       "    <tr>\n",
       "      <th>...</th>\n",
       "      <td>...</td>\n",
       "      <td>...</td>\n",
       "      <td>...</td>\n",
       "      <td>...</td>\n",
       "      <td>...</td>\n",
       "      <td>...</td>\n",
       "      <td>...</td>\n",
       "      <td>...</td>\n",
       "    </tr>\n",
       "    <tr>\n",
       "      <th>2421</th>\n",
       "      <td>2495</td>\n",
       "      <td>2020-04-20</td>\n",
       "      <td>1221.000</td>\n",
       "      <td>1227.300</td>\n",
       "      <td>1231.500</td>\n",
       "      <td>1216.800</td>\n",
       "      <td>24239.00</td>\n",
       "      <td>600519</td>\n",
       "    </tr>\n",
       "    <tr>\n",
       "      <th>2422</th>\n",
       "      <td>2496</td>\n",
       "      <td>2020-04-21</td>\n",
       "      <td>1221.020</td>\n",
       "      <td>1200.000</td>\n",
       "      <td>1223.990</td>\n",
       "      <td>1193.000</td>\n",
       "      <td>29224.00</td>\n",
       "      <td>600519</td>\n",
       "    </tr>\n",
       "    <tr>\n",
       "      <th>2423</th>\n",
       "      <td>2497</td>\n",
       "      <td>2020-04-22</td>\n",
       "      <td>1206.000</td>\n",
       "      <td>1244.500</td>\n",
       "      <td>1249.500</td>\n",
       "      <td>1202.220</td>\n",
       "      <td>44035.00</td>\n",
       "      <td>600519</td>\n",
       "    </tr>\n",
       "    <tr>\n",
       "      <th>2424</th>\n",
       "      <td>2498</td>\n",
       "      <td>2020-04-23</td>\n",
       "      <td>1250.000</td>\n",
       "      <td>1252.260</td>\n",
       "      <td>1265.680</td>\n",
       "      <td>1247.770</td>\n",
       "      <td>26899.00</td>\n",
       "      <td>600519</td>\n",
       "    </tr>\n",
       "    <tr>\n",
       "      <th>2425</th>\n",
       "      <td>2499</td>\n",
       "      <td>2020-04-24</td>\n",
       "      <td>1248.000</td>\n",
       "      <td>1250.560</td>\n",
       "      <td>1259.890</td>\n",
       "      <td>1235.180</td>\n",
       "      <td>19122.00</td>\n",
       "      <td>600519</td>\n",
       "    </tr>\n",
       "  </tbody>\n",
       "</table>\n",
       "<p>2426 rows × 8 columns</p>\n",
       "</div>"
      ],
      "text/plain": [
       "      Unnamed: 0        date      open     close      high       low  \\\n",
       "0             74  2010-04-26    88.702    87.381    89.072    87.362   \n",
       "1             75  2010-04-27    87.355    84.841    87.355    84.681   \n",
       "2             76  2010-04-28    84.235    84.318    85.128    83.597   \n",
       "3             77  2010-04-29    84.592    85.671    86.315    84.592   \n",
       "4             78  2010-04-30    83.871    82.340    83.871    81.523   \n",
       "...          ...         ...       ...       ...       ...       ...   \n",
       "2421        2495  2020-04-20  1221.000  1227.300  1231.500  1216.800   \n",
       "2422        2496  2020-04-21  1221.020  1200.000  1223.990  1193.000   \n",
       "2423        2497  2020-04-22  1206.000  1244.500  1249.500  1202.220   \n",
       "2424        2498  2020-04-23  1250.000  1252.260  1265.680  1247.770   \n",
       "2425        2499  2020-04-24  1248.000  1250.560  1259.890  1235.180   \n",
       "\n",
       "         volume    code  \n",
       "0     107036.13  600519  \n",
       "1      58234.48  600519  \n",
       "2      26287.43  600519  \n",
       "3      34501.20  600519  \n",
       "4      85566.70  600519  \n",
       "...         ...     ...  \n",
       "2421   24239.00  600519  \n",
       "2422   29224.00  600519  \n",
       "2423   44035.00  600519  \n",
       "2424   26899.00  600519  \n",
       "2425   19122.00  600519  \n",
       "\n",
       "[2426 rows x 8 columns]"
      ]
     },
     "execution_count": 9,
     "metadata": {},
     "output_type": "execute_result"
    }
   ],
   "source": [
    "data = pd.read_csv('F:\\DeepLearning\\day-9\\SH600519.csv')  # 读取股票文件\n",
    "\n",
    "data"
   ]
  },
  {
   "cell_type": "code",
   "execution_count": 10,
   "id": "e092119f",
   "metadata": {},
   "outputs": [],
   "source": [
    "\"\"\"\n",
    "前(2426-300=2126)天的开盘价作为训练集,表格从0开始计数，2:3 是提取[2:3)列，前闭后开,故提取出C列开盘价\n",
    "后300天的开盘价作为测试集\n",
    "\"\"\"\n",
    "training_set = data.iloc[0:2426 - 300, 2:3].values  \n",
    "test_set = data.iloc[2426 - 300:, 2:3].values  "
   ]
  },
  {
   "cell_type": "code",
   "execution_count": 11,
   "id": "65d818cc",
   "metadata": {},
   "outputs": [],
   "source": [
    "## 2.数据预处理\n",
    "\n",
    "### 2.1 归一化"
   ]
  },
  {
   "cell_type": "code",
   "execution_count": 12,
   "id": "5a77c2d7",
   "metadata": {},
   "outputs": [],
   "source": [
    "sc           = MinMaxScaler(feature_range=(0, 1))\n",
    "training_set = sc.fit_transform(training_set)\n",
    "test_set     = sc.transform(test_set) "
   ]
  },
  {
   "cell_type": "code",
   "execution_count": 13,
   "id": "1d748ce6",
   "metadata": {},
   "outputs": [],
   "source": [
    "### 2.2 设置测试集训练集"
   ]
  },
  {
   "cell_type": "code",
   "execution_count": 14,
   "id": "8f726c99",
   "metadata": {},
   "outputs": [],
   "source": [
    "x_train = []\n",
    "y_train = []\n",
    "\n",
    "x_test = []\n",
    "y_test = []\n",
    "\n",
    "\"\"\"\n",
    "使用前60天的开盘价作为输入特征x_train\n",
    "    第61天的开盘价作为输入标签y_train\n",
    "    \n",
    "for循环共构建2426-300-60=2066组训练数据。\n",
    "       共构建300-60=260组测试数据\n",
    "\"\"\"\n",
    "for i in range(60, len(training_set)):\n",
    "    x_train.append(training_set[i - 60:i, 0])\n",
    "    y_train.append(training_set[i, 0])\n",
    "    \n",
    "for i in range(60, len(test_set)):\n",
    "    x_test.append(test_set[i - 60:i, 0])\n",
    "    y_test.append(test_set[i, 0])\n",
    "    \n",
    "# 对训练集进行打乱\n",
    "np.random.seed(7)\n",
    "np.random.shuffle(x_train)\n",
    "np.random.seed(7)\n",
    "np.random.shuffle(y_train)\n",
    "tf.random.set_seed(7)"
   ]
  },
  {
   "cell_type": "code",
   "execution_count": 15,
   "id": "7d7e10c5",
   "metadata": {},
   "outputs": [],
   "source": [
    "\"\"\"\n",
    "将训练数据调整为数组（array）\n",
    "\n",
    "调整后的形状：\n",
    "x_train:(2066, 60, 1)\n",
    "y_train:(2066,)\n",
    "x_test :(240, 60, 1)\n",
    "y_test :(240,)\n",
    "\"\"\"\n",
    "x_train, y_train = np.array(x_train), np.array(y_train) # x_train形状为：(2066, 60, 1)\n",
    "x_test,  y_test  = np.array(x_test),  np.array(y_test)\n",
    "\n",
    "\"\"\"\n",
    "输入要求：[送入样本数， 循环核时间展开步数， 每个时间步输入特征个数]\n",
    "\"\"\"\n",
    "x_train = np.reshape(x_train, (x_train.shape[0], 60, 1))\n",
    "x_test  = np.reshape(x_test,  (x_test.shape[0], 60, 1))"
   ]
  },
  {
   "cell_type": "code",
   "execution_count": 16,
   "id": "668541eb",
   "metadata": {},
   "outputs": [],
   "source": [
    "## 3. 构建模型"
   ]
  },
  {
   "cell_type": "code",
   "execution_count": 17,
   "id": "40be8ed7",
   "metadata": {},
   "outputs": [],
   "source": [
    "model = tf.keras.Sequential([\n",
    "    SimpleRNN(100, return_sequences=True), #布尔值。是返回输出序列中的最后一个输出，还是全部序列。\n",
    "    Dropout(0.1),                         #防止过拟合\n",
    "    SimpleRNN(100),\n",
    "    Dropout(0.1),\n",
    "    Dense(1)\n",
    "])"
   ]
  },
  {
   "cell_type": "code",
   "execution_count": 18,
   "id": "eec91f31",
   "metadata": {},
   "outputs": [],
   "source": [
    "## 4. 激活模型"
   ]
  },
  {
   "cell_type": "code",
   "execution_count": 19,
   "id": "798888bd",
   "metadata": {},
   "outputs": [],
   "source": [
    "# 该应用只观测loss数值，不观测准确率，所以删去metrics选项，一会在每个epoch迭代显示时只显示loss值\n",
    "model.compile(optimizer=tf.keras.optimizers.Adam(0.001),\n",
    "              loss='mean_squared_error')  # 损失函数用均方误差"
   ]
  },
  {
   "cell_type": "code",
   "execution_count": 20,
   "id": "a263bf94",
   "metadata": {},
   "outputs": [],
   "source": [
    "## 5. 训练模型"
   ]
  },
  {
   "cell_type": "code",
   "execution_count": 21,
   "id": "999d4802",
   "metadata": {},
   "outputs": [
    {
     "name": "stdout",
     "output_type": "stream",
     "text": [
      "Epoch 1/20\n",
      "33/33 [==============================] - 3s 40ms/step - loss: 0.1262 - val_loss: 0.0670\n",
      "Epoch 2/20\n",
      "33/33 [==============================] - 1s 26ms/step - loss: 0.0172 - val_loss: 0.0786\n",
      "Epoch 3/20\n",
      "33/33 [==============================] - 1s 28ms/step - loss: 0.0126 - val_loss: 0.0037\n",
      "Epoch 4/20\n",
      "33/33 [==============================] - 1s 27ms/step - loss: 0.0089 - val_loss: 0.0160\n",
      "Epoch 5/20\n",
      "33/33 [==============================] - 1s 27ms/step - loss: 0.0064 - val_loss: 0.0352\n",
      "Epoch 6/20\n",
      "33/33 [==============================] - 1s 27ms/step - loss: 0.0052 - val_loss: 0.0207\n",
      "Epoch 7/20\n",
      "33/33 [==============================] - 1s 30ms/step - loss: 0.0048 - val_loss: 0.0307\n",
      "Epoch 8/20\n",
      "33/33 [==============================] - 1s 30ms/step - loss: 0.0046 - val_loss: 0.0255\n",
      "Epoch 9/20\n",
      "33/33 [==============================] - 1s 28ms/step - loss: 0.0037 - val_loss: 0.0246\n",
      "Epoch 10/20\n",
      "33/33 [==============================] - 1s 27ms/step - loss: 0.0031 - val_loss: 0.0069\n",
      "Epoch 11/20\n",
      "33/33 [==============================] - 1s 28ms/step - loss: 0.0029 - val_loss: 0.0077\n",
      "Epoch 12/20\n",
      "33/33 [==============================] - 1s 29ms/step - loss: 0.0027 - val_loss: 0.0097\n",
      "Epoch 13/20\n",
      "33/33 [==============================] - 1s 29ms/step - loss: 0.0023 - val_loss: 0.0091\n",
      "Epoch 14/20\n",
      "33/33 [==============================] - 1s 28ms/step - loss: 0.0024 - val_loss: 0.0084\n",
      "Epoch 15/20\n",
      "33/33 [==============================] - 1s 29ms/step - loss: 0.0020 - val_loss: 0.0092\n",
      "Epoch 16/20\n",
      "33/33 [==============================] - 1s 28ms/step - loss: 0.0019 - val_loss: 0.0084\n",
      "Epoch 17/20\n",
      "33/33 [==============================] - 1s 28ms/step - loss: 0.0020 - val_loss: 0.0057\n",
      "Epoch 18/20\n",
      "33/33 [==============================] - 1s 28ms/step - loss: 0.0018 - val_loss: 0.0064\n",
      "Epoch 19/20\n",
      "33/33 [==============================] - 1s 29ms/step - loss: 0.0018 - val_loss: 0.0071\n",
      "Epoch 20/20\n",
      "33/33 [==============================] - 1s 29ms/step - loss: 0.0016 - val_loss: 0.0056\n",
      "Model: \"sequential\"\n",
      "_________________________________________________________________\n",
      " Layer (type)                Output Shape              Param #   \n",
      "=================================================================\n",
      " simple_rnn (SimpleRNN)      (None, 60, 100)           10200     \n",
      "                                                                 \n",
      " dropout (Dropout)           (None, 60, 100)           0         \n",
      "                                                                 \n",
      " simple_rnn_1 (SimpleRNN)    (None, 100)               20100     \n",
      "                                                                 \n",
      " dropout_1 (Dropout)         (None, 100)               0         \n",
      "                                                                 \n",
      " dense (Dense)               (None, 1)                 101       \n",
      "                                                                 \n",
      "=================================================================\n",
      "Total params: 30,401\n",
      "Trainable params: 30,401\n",
      "Non-trainable params: 0\n",
      "_________________________________________________________________\n"
     ]
    }
   ],
   "source": [
    "history = model.fit(x_train, y_train, \n",
    "                    batch_size=64, \n",
    "                    epochs=20, \n",
    "                    validation_data=(x_test, y_test), \n",
    "                    validation_freq=1)                  #测试的epoch间隔数\n",
    "\n",
    "model.summary()"
   ]
  },
  {
   "cell_type": "code",
   "execution_count": 22,
   "id": "6b055bd8",
   "metadata": {},
   "outputs": [],
   "source": [
    "## 6. 结果结果可视化\n",
    "\n",
    "### 6.1 绘制loss图"
   ]
  },
  {
   "cell_type": "code",
   "execution_count": 23,
   "id": "4c4eaafe",
   "metadata": {},
   "outputs": [
    {
     "data": {
      "image/png": "[encoded data removed]",
      "text/plain": [
       "<Figure size 432x288 with 1 Axes>"
      ]
     },
     "metadata": {
      "needs_background": "light"
     },
     "output_type": "display_data"
    }
   ],
   "source": [
    "plt.plot(history.history['loss']    , label='Training Loss')\n",
    "plt.plot(history.history['val_loss'], label='Validation Loss')\n",
    "plt.title('Training and Validation Loss by K同学啊')\n",
    "plt.legend()\n",
    "plt.show()"
   ]
  },
  {
   "cell_type": "code",
   "execution_count": 24,
   "id": "e8f66c53",
   "metadata": {},
   "outputs": [],
   "source": [
    "### 6.2 预测"
   ]
  },
  {
   "cell_type": "code",
   "execution_count": 25,
   "id": "0017535a",
   "metadata": {},
   "outputs": [
    {
     "name": "stdout",
     "output_type": "stream",
     "text": [
      "8/8 [==============================] - 0s 7ms/step\n"
     ]
    },
    {
     "data": {
      "image/png": "[encoded data removed]",
      "text/plain": [
       "<Figure size 432x288 with 1 Axes>"
      ]
     },
     "metadata": {
      "needs_background": "light"
     },
     "output_type": "display_data"
    }
   ],
   "source": [
    "predicted_stock_price = model.predict(x_test)                       # 测试集输入模型进行预测\n",
    "predicted_stock_price = sc.inverse_transform(predicted_stock_price) # 对预测数据还原---从（0，1）反归一化到原始范围\n",
    "real_stock_price = sc.inverse_transform(test_set[60:])              # 对真实数据还原---从（0，1）反归一化到原始范围\n",
    "\n",
    "# 画出真实数据和预测数据的对比曲线\n",
    "plt.plot(real_stock_price, color='red', label='Stock Price')\n",
    "plt.plot(predicted_stock_price, color='blue', label='Predicted Stock Price')\n",
    "plt.title('Stock Price Prediction by K同学啊')\n",
    "plt.xlabel('Time')\n",
    "plt.ylabel('Stock Price')\n",
    "plt.legend()\n",
    "plt.show()"
   ]
  },
  {
   "cell_type": "code",
   "execution_count": 26,
   "id": "8c3431ed",
   "metadata": {},
   "outputs": [],
   "source": [
    "### 6.3 评估"
   ]
  },
  {
   "cell_type": "code",
   "execution_count": 27,
   "id": "0072c9aa",
   "metadata": {},
   "outputs": [
    {
     "name": "stdout",
     "output_type": "stream",
     "text": [
      "均方误差: 2832.57154\n",
      "均方根误差: 53.22191\n",
      "平均绝对误差: 46.33862\n",
      "R2: 0.59097\n"
     ]
    }
   ],
   "source": [
    "\"\"\"\n",
    "MSE  ：均方误差    ----->  预测值减真实值求平方后求均值\n",
    "RMSE ：均方根误差  ----->  对均方误差开方\n",
    "MAE  ：平均绝对误差----->  预测值减真实值求绝对值后求均值\n",
    "R2   ：决定系数，可以简单理解为反映模型拟合优度的重要的统计量\n",
    "\n",
    "详细介绍可以参考文章：https://blog.csdn.net/qq_38251616/article/details/107997435\n",
    "\"\"\"\n",
    "MSE   = metrics.mean_squared_error(predicted_stock_price, real_stock_price)\n",
    "RMSE  = metrics.mean_squared_error(predicted_stock_price, real_stock_price)**0.5\n",
    "MAE   = metrics.mean_absolute_error(predicted_stock_price, real_stock_price)\n",
    "R2    = metrics.r2_score(predicted_stock_price, real_stock_price)\n",
    "\n",
    "print('均方误差: %.5f' % MSE)\n",
    "print('均方根误差: %.5f' % RMSE)\n",
    "print('平均绝对误差: %.5f' % MAE)\n",
    "print('R2: %.5f' % R2)"
   ]
  }
 ],
 "metadata": {
  "kernelspec": {
   "display_name": "Python 3 (ipykernel)",
   "language": "python",
   "name": "python3"
  },
  "language_info": {
   "codemirror_mode": {
    "name": "ipython",
    "version": 3
   },
   "file_extension": ".py",
   "mimetype": "text/x-python",
   "name": "python",
   "nbconvert_exporter": "python",
   "pygments_lexer": "ipython3",
   "version": "3.8.13"
  }
 },
 "nbformat": 4,
 "nbformat_minor": 5
}
