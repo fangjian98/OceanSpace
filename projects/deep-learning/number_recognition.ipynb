{
 "cells": [
  {
   "cell_type": "markdown",
   "id": "7b1ddfb2",
   "metadata": {},
   "source": [
    "# 深度学习100例-卷积神经网络（CNN）实现mnist手写数字识别 | 第1天\n",
    "\n",
    "## 1.前期准备\n",
    "\n",
    "### 1.1导入数据"
   ]
  },
  {
   "cell_type": "code",
   "execution_count": 1,
   "id": "68e3e861",
   "metadata": {},
   "outputs": [],
   "source": [
    "import tensorflow as tf\n",
    "from tensorflow.keras import datasets, layers, models\n",
    "import matplotlib.pyplot as plt\n",
    "import numpy as np\n",
    "\n",
    "(train_images, train_labels), (test_images, test_labels) = datasets.mnist.load_data()"
   ]
  },
  {
   "cell_type": "markdown",
   "id": "0213302c",
   "metadata": {},
   "source": [
    "### 1.2归一化"
   ]
  },
  {
   "cell_type": "code",
   "execution_count": 2,
   "id": "9d59cf73",
   "metadata": {},
   "outputs": [
    {
     "data": {
      "text/plain": [
       "'\\n输出：((60000, 28, 28), (10000, 28, 28), (60000,), (10000,))\\n'"
      ]
     },
     "execution_count": 2,
     "metadata": {},
     "output_type": "execute_result"
    }
   ],
   "source": [
    "# 将像素的值标准化至0到1的区间内。\n",
    "train_images, test_images = train_images / 255.0, test_images / 255.0\n",
    "\n",
    "train_images.shape,test_images.shape,train_labels.shape,test_labels.shape\n",
    "\"\"\"\n",
    "输出：((60000, 28, 28), (10000, 28, 28), (60000,), (10000,))\n",
    "\"\"\""
   ]
  },
  {
   "cell_type": "markdown",
   "id": "886fbe98",
   "metadata": {},
   "source": [
    "### 1.3可视化图片"
   ]
  },
  {
   "cell_type": "code",
   "execution_count": 3,
   "id": "98339b47",
   "metadata": {},
   "outputs": [
    {
     "data": {
      "image/png": "[encoded data removed]",
      "text/plain": [
       "<Figure size 1440x720 with 20 Axes>"
      ]
     },
     "metadata": {},
     "output_type": "display_data"
    }
   ],
   "source": [
    "plt.figure(figsize=(20,10))\n",
    "for i in range(20):\n",
    "    plt.subplot(5,10,i+1)\n",
    "    plt.xticks([])\n",
    "    plt.yticks([])\n",
    "    plt.grid(False)\n",
    "    plt.imshow(train_images[i], cmap=plt.cm.binary)\n",
    "    plt.xlabel(train_labels[i])\n",
    "plt.show()"
   ]
  },
  {
   "cell_type": "markdown",
   "id": "0b957ea5",
   "metadata": {},
   "source": [
    "### 1.4调整图片格式"
   ]
  },
  {
   "cell_type": "code",
   "execution_count": 4,
   "id": "dc3b8d34",
   "metadata": {},
   "outputs": [
    {
     "data": {
      "text/plain": [
       "'\\n输出：((60000, 28, 28, 1), (10000, 28, 28, 1), (60000,), (10000,))\\n'"
      ]
     },
     "execution_count": 4,
     "metadata": {},
     "output_type": "execute_result"
    }
   ],
   "source": [
    "#调整数据到我们需要的格式\n",
    "train_images = train_images.reshape((60000, 28, 28, 1))\n",
    "test_images = test_images.reshape((10000, 28, 28, 1))\n",
    "\n",
    "train_images.shape,test_images.shape,train_labels.shape,test_labels.shape\n",
    "\"\"\"\n",
    "输出：((60000, 28, 28, 1), (10000, 28, 28, 1), (60000,), (10000,))\n",
    "\"\"\""
   ]
  },
  {
   "cell_type": "markdown",
   "id": "3ca33784",
   "metadata": {},
   "source": [
    "## 2.构建CNN网络模型"
   ]
  },
  {
   "cell_type": "code",
   "execution_count": 5,
   "id": "656109da",
   "metadata": {},
   "outputs": [
    {
     "name": "stdout",
     "output_type": "stream",
     "text": [
      "Model: \"sequential\"\n",
      "_________________________________________________________________\n",
      " Layer (type)                Output Shape              Param #   \n",
      "=================================================================\n",
      " conv2d (Conv2D)             (None, 26, 26, 32)        320       \n",
      "                                                                 \n",
      " max_pooling2d (MaxPooling2D  (None, 13, 13, 32)       0         \n",
      " )                                                               \n",
      "                                                                 \n",
      " conv2d_1 (Conv2D)           (None, 11, 11, 64)        18496     \n",
      "                                                                 \n",
      " max_pooling2d_1 (MaxPooling  (None, 5, 5, 64)         0         \n",
      " 2D)                                                             \n",
      "                                                                 \n",
      " flatten (Flatten)           (None, 1600)              0         \n",
      "                                                                 \n",
      " dense (Dense)               (None, 64)                102464    \n",
      "                                                                 \n",
      " dense_1 (Dense)             (None, 10)                650       \n",
      "                                                                 \n",
      "=================================================================\n",
      "Total params: 121,930\n",
      "Trainable params: 121,930\n",
      "Non-trainable params: 0\n",
      "_________________________________________________________________\n"
     ]
    }
   ],
   "source": [
    "model = models.Sequential([\n",
    "    layers.Conv2D(32, (3, 3), activation='relu', input_shape=(28, 28, 1)),#卷积层1，卷积核3*3\n",
    "    layers.MaxPooling2D((2, 2)),                   #池化层1，2*2采样\n",
    "    layers.Conv2D(64, (3, 3), activation='relu'),  #卷积层2，卷积核3*3\n",
    "    layers.MaxPooling2D((2, 2)),                   #池化层2，2*2采样\n",
    "    \n",
    "    layers.Flatten(),                              #Flatten层，连接卷积层与全连接层\n",
    "    layers.Dense(64, activation='relu'),\t\t   #全连接层，特征进一步提取\n",
    "    layers.Dense(10)                               #输出层，输出预期结果\n",
    "])\n",
    "# 打印网络结构\n",
    "model.summary()"
   ]
  },
  {
   "cell_type": "markdown",
   "id": "385edbfd",
   "metadata": {},
   "source": [
    "## 3.编译模型"
   ]
  },
  {
   "cell_type": "code",
   "execution_count": 6,
   "id": "693f51d0",
   "metadata": {},
   "outputs": [],
   "source": [
    "\"\"\"\n",
    "这里设置优化器、损失函数以及metrics\n",
    "这三者具体介绍可参考我的博客：\n",
    "https://blog.csdn.net/qq_38251616/category_10258234.html\n",
    "\"\"\"\n",
    "model.compile(optimizer='adam',\n",
    "              loss=tf.keras.losses.SparseCategoricalCrossentropy(from_logits=True),\n",
    "              metrics=['accuracy'])"
   ]
  },
  {
   "cell_type": "markdown",
   "id": "98afb83d",
   "metadata": {},
   "source": [
    "## 4.训练模型"
   ]
  },
  {
   "cell_type": "code",
   "execution_count": 7,
   "id": "71474f54",
   "metadata": {},
   "outputs": [
    {
     "name": "stdout",
     "output_type": "stream",
     "text": [
      "Epoch 1/10\n",
      "1875/1875 [==============================] - 32s 17ms/step - loss: 0.1398 - accuracy: 0.9583 - val_loss: 0.0444 - val_accuracy: 0.9862\n",
      "Epoch 2/10\n",
      "1875/1875 [==============================] - 32s 17ms/step - loss: 0.0458 - accuracy: 0.9861 - val_loss: 0.0364 - val_accuracy: 0.9885\n",
      "Epoch 3/10\n",
      "1875/1875 [==============================] - 33s 17ms/step - loss: 0.0320 - accuracy: 0.9901 - val_loss: 0.0290 - val_accuracy: 0.9902\n",
      "Epoch 4/10\n",
      "1875/1875 [==============================] - 29s 15ms/step - loss: 0.0239 - accuracy: 0.9925 - val_loss: 0.0468 - val_accuracy: 0.9860\n",
      "Epoch 5/10\n",
      "1875/1875 [==============================] - 25s 13ms/step - loss: 0.0183 - accuracy: 0.9938 - val_loss: 0.0270 - val_accuracy: 0.9911\n",
      "Epoch 6/10\n",
      "1875/1875 [==============================] - 25s 14ms/step - loss: 0.0136 - accuracy: 0.9955 - val_loss: 0.0244 - val_accuracy: 0.9925\n",
      "Epoch 7/10\n",
      "1875/1875 [==============================] - 26s 14ms/step - loss: 0.0106 - accuracy: 0.9967 - val_loss: 0.0368 - val_accuracy: 0.9894\n",
      "Epoch 8/10\n",
      "1875/1875 [==============================] - 28s 15ms/step - loss: 0.0104 - accuracy: 0.9966 - val_loss: 0.0323 - val_accuracy: 0.9915\n",
      "Epoch 9/10\n",
      "1875/1875 [==============================] - 25s 13ms/step - loss: 0.0074 - accuracy: 0.9973 - val_loss: 0.0287 - val_accuracy: 0.9913\n",
      "Epoch 10/10\n",
      "1875/1875 [==============================] - 25s 14ms/step - loss: 0.0073 - accuracy: 0.9976 - val_loss: 0.0383 - val_accuracy: 0.9900\n"
     ]
    }
   ],
   "source": [
    "\"\"\"\n",
    "这里设置输入训练数据集（图片及标签）、验证数据集（图片及标签）以及迭代次数epochs\n",
    "关于model.fit()函数的具体介绍可参考我的博客：\n",
    "https://blog.csdn.net/qq_38251616/category_10258234.html\n",
    "\"\"\"\n",
    "history = model.fit(train_images, train_labels, epochs=10, \n",
    "                    validation_data=(test_images, test_labels))"
   ]
  },
  {
   "cell_type": "markdown",
   "id": "e1240e08",
   "metadata": {},
   "source": [
    "## 5.预测"
   ]
  },
  {
   "cell_type": "code",
   "execution_count": 8,
   "id": "38e7b24b",
   "metadata": {},
   "outputs": [
    {
     "name": "stdout",
     "output_type": "stream",
     "text": [
      "313/313 [==============================] - 1s 3ms/step\n",
      "[-19.424093   -14.651355   -15.31765     -3.2354898    6.8872514\n",
      "  -6.696597   -26.477327     0.62189054   1.0967858   25.696323  ]\n",
      "(array([9], dtype=int64),)\n"
     ]
    },
    {
     "data": {
      "image/png": "[encoded data removed]",
      "text/plain": [
       "<Figure size 432x288 with 1 Axes>"
      ]
     },
     "metadata": {
      "needs_background": "light"
     },
     "output_type": "display_data"
    }
   ],
   "source": [
    "plt.imshow(test_images[9])\n",
    "\n",
    "# 输出测试集中第一张图片的预测结果\n",
    "pre = model.predict(test_images) # 对所有测试图片进行预测\n",
    "a = pre[9] # 输出第一张图片的预测结果\n",
    "print(a)\n",
    "# 输出结果：为0-9中每一个数字的几率，out数字越大可能性越大\n",
    "print(np.where(a==np.max(a)))"
   ]
  }
 ],
 "metadata": {
  "kernelspec": {
   "display_name": "Python 3 (ipykernel)",
   "language": "python",
   "name": "python3"
  },
  "language_info": {
   "codemirror_mode": {
    "name": "ipython",
    "version": 3
   },
   "file_extension": ".py",
   "mimetype": "text/x-python",
   "name": "python",
   "nbconvert_exporter": "python",
   "pygments_lexer": "ipython3",
   "version": "3.8.13"
  }
 },
 "nbformat": 4,
 "nbformat_minor": 5
}
